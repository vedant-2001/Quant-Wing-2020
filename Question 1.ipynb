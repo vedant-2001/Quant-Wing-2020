{
 "cells": [
  {
   "cell_type": "code",
   "execution_count": 2,
   "metadata": {},
   "outputs": [],
   "source": [
    "import pandas as pd\n",
    "import numpy as np\n",
    "import datetime\n",
    "import matplotlib.pyplot as plt"
   ]
  },
  {
   "cell_type": "code",
   "execution_count": 10,
   "metadata": {},
   "outputs": [],
   "source": [
    "def Binomial(n, S, K, r, v, t, PutCall):  \n",
    "    At = t/n \n",
    "    u = np.exp(v*np.sqrt(At))\n",
    "    d = 1./u\n",
    "    p = (np.exp(r*At)-d) / (u-d) \n",
    "\n",
    "    #Binomial price tree\n",
    "    stockvalue = np.zeros((n+1,n+1))\n",
    "    stockvalue[0,0] = S\n",
    "    for i in range(1,n+1):\n",
    "        stockvalue[i,0] = stockvalue[i-1,0]*u\n",
    "        for j in range(1,i+1):\n",
    "            stockvalue[i,j] = stockvalue[i-1,j-1]*d\n",
    "    \n",
    "    #option value at final node   \n",
    "    optionvalue = np.zeros((n+1,n+1))\n",
    "    for j in range(n+1):\n",
    "        if PutCall==\"C\": # Call\n",
    "            optionvalue[n,j] = max(0, stockvalue[n,j]-K)\n",
    "        elif PutCall==\"P\": #Put\n",
    "            optionvalue[n,j] = max(0, K-stockvalue[n,j])\n",
    "    \n",
    "    #backward calculation for option price    \n",
    "    for i in range(n-1,-1,-1):\n",
    "        for j in range(i+1):\n",
    "                if PutCall==\"P\":\n",
    "                    optionvalue[i,j] = max(0, K-stockvalue[i,j], np.exp(-r*At)*(p*optionvalue[i+1,j]+(1-p)*optionvalue[i+1,j+1]))\n",
    "                elif PutCall==\"C\":\n",
    "                    optionvalue[i,j] = max(0, stockvalue[i,j]-K, np.exp(-r*At)*(p*optionvalue[i+1,j]+(1-p)*optionvalue[i+1,j+1]))\n",
    "    return optionvalue[0,0]"
   ]
  },
  {
   "cell_type": "code",
   "execution_count": 11,
   "metadata": {},
   "outputs": [],
   "source": [
    "# Inputs\n",
    "n = 10 #input(\"Enter number of binomial steps: \")           #number of steps\n",
    "S = 100 #input(\"Enter the initial underlying asset price: \") #initial underlying asset price\n",
    "r = 0.06 #input(\"Enter the risk-free interest rate: \")        #risk-free interest rate\n",
    "K = 105 #input(\"Enter the option strike price: \")            #strike price\n",
    "v = 0.4 #input(\"Enter the volatility factor: \")              #volatility\n",
    "t = 1."
   ]
  },
  {
   "cell_type": "code",
   "execution_count": 12,
   "metadata": {},
   "outputs": [
    {
     "data": {
      "text/plain": [
       "16.217043453051907"
      ]
     },
     "execution_count": 12,
     "metadata": {},
     "output_type": "execute_result"
    }
   ],
   "source": [
    "Binomial(n,S,K,r,v,t,'P')"
   ]
  },
  {
   "cell_type": "code",
   "execution_count": null,
   "metadata": {},
   "outputs": [],
   "source": []
  },
  {
   "cell_type": "code",
   "execution_count": null,
   "metadata": {},
   "outputs": [],
   "source": []
  },
  {
   "cell_type": "code",
   "execution_count": null,
   "metadata": {},
   "outputs": [],
   "source": []
  },
  {
   "cell_type": "code",
   "execution_count": null,
   "metadata": {},
   "outputs": [],
   "source": []
  },
  {
   "cell_type": "code",
   "execution_count": null,
   "metadata": {},
   "outputs": [],
   "source": []
  },
  {
   "cell_type": "code",
   "execution_count": null,
   "metadata": {},
   "outputs": [],
   "source": []
  },
  {
   "cell_type": "code",
   "execution_count": null,
   "metadata": {},
   "outputs": [],
   "source": []
  },
  {
   "cell_type": "code",
   "execution_count": null,
   "metadata": {},
   "outputs": [],
   "source": []
  },
  {
   "cell_type": "code",
   "execution_count": null,
   "metadata": {},
   "outputs": [],
   "source": []
  },
  {
   "cell_type": "code",
   "execution_count": null,
   "metadata": {},
   "outputs": [],
   "source": []
  },
  {
   "cell_type": "code",
   "execution_count": null,
   "metadata": {},
   "outputs": [],
   "source": []
  },
  {
   "cell_type": "code",
   "execution_count": null,
   "metadata": {},
   "outputs": [],
   "source": []
  },
  {
   "cell_type": "code",
   "execution_count": null,
   "metadata": {},
   "outputs": [],
   "source": []
  }
 ],
 "metadata": {
  "kernelspec": {
   "display_name": "Python 3",
   "language": "python",
   "name": "python3"
  },
  "language_info": {
   "codemirror_mode": {
    "name": "ipython",
    "version": 3
   },
   "file_extension": ".py",
   "mimetype": "text/x-python",
   "name": "python",
   "nbconvert_exporter": "python",
   "pygments_lexer": "ipython3",
   "version": "3.7.6"
  }
 },
 "nbformat": 4,
 "nbformat_minor": 4
}
