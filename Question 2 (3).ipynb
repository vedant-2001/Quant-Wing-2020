{
 "cells": [
  {
   "cell_type": "code",
   "execution_count": 2,
   "metadata": {
    "colab": {},
    "colab_type": "code",
    "id": "sDA6bQni5JTO"
   },
   "outputs": [
    {
     "name": "stderr",
     "output_type": "stream",
     "text": [
      "C:\\Users\\vedu2\\anaconda32\\lib\\site-packages\\pandas_datareader\\compat\\__init__.py:7: FutureWarning: pandas.util.testing is deprecated. Use the functions in the public API at pandas.testing instead.\n",
      "  from pandas.util.testing import assert_frame_equal\n"
     ]
    }
   ],
   "source": [
    "import pandas as pd\n",
    "import numpy as np\n",
    "import pandas_datareader.data as data\n",
    "import matplotlib.pyplot as plt\n",
    "plt.style.use('seaborn-whitegrid')\n",
    "%matplotlib inline\n",
    "from datetime import datetime "
   ]
  },
  {
   "cell_type": "code",
   "execution_count": 9,
   "metadata": {
    "colab": {},
    "colab_type": "code",
    "id": "ls_jRZSB5JTW"
   },
   "outputs": [],
   "source": [
    "portfolio = 1e5 #Portfolio total worth of 1 lakh\n",
    "tscost = 0.005 #Per trade transaction cost of 0.5%, so if two stocks of 30 each are bought, (1+0.005)*2*30 is charged in total\n",
    "nstocks = 0\n",
    "\n",
    "#stock_list = ['HDFC.NS','ITC.NS','RELIANCE.NS','ONGC.NS','COALINDIA.NS','HDFCBANK.NS','ICICIBANK.NS','ONGC.NS','KOTAKBANK.NS'] #Stock list, to add a stock simply\n",
    "stock_list = ['BHEL.NS','ITC.NS','LUPIN.NS','RELIANCE.NS','IBVENTURES.NS']                                                                          #add the ticker according to Yahoo! Finance\n",
    "for stock in stock_list:\n",
    "    nstocks+=1   "
   ]
  },
  {
   "cell_type": "code",
   "execution_count": 10,
   "metadata": {
    "colab": {},
    "colab_type": "code",
    "id": "pBGC4Xui5JTc"
   },
   "outputs": [],
   "source": [
    "stocks = []#Function to read Data\n",
    "def readData(ticker, n):\n",
    "    stocks.append(data.DataReader(ticker, 'yahoo',start='1/1/2015')) #Taking backtesting period as roughly 5 years"
   ]
  },
  {
   "cell_type": "code",
   "execution_count": 11,
   "metadata": {
    "colab": {},
    "colab_type": "code",
    "id": "hx7VTnOE5JTg"
   },
   "outputs": [],
   "source": [
    "def RSI(df):\n",
    "    \"function to calculate RSI ,assume period to be 14 buyt could be anything\"\n",
    "    rsi_period = 14\n",
    "    change = df['Close'].diff(1)\n",
    "    gain  = change.mask(change<0,0)#basically whichever have loss itll put gain as zero\n",
    "    loss = change.mask(change>0,0)#basically whichever have gain,it will put loss as zero\n",
    "    avg_gain = gain.ewm(com = rsi_period - 1,min_periods = rsi_period).mean()\n",
    "    avg_loss = loss.ewm(com = rsi_period -1 ,min_periods = rsi_period).mean()\n",
    "    RS = abs(avg_gain/avg_loss)\n",
    "    RSI = 100 - 1/(1+RS) \n",
    "    df['RSI'] = pd.Series(RSI)\n",
    "    "
   ]
  },
  {
   "cell_type": "code",
   "execution_count": 12,
   "metadata": {
    "colab": {},
    "colab_type": "code",
    "id": "SuQE8esP5JTk"
   },
   "outputs": [],
   "source": [
    "def BBands(df1):\n",
    "    window = 25\n",
    "    no_of_std = 2\n",
    "    rolling_mean1 = df1['Adj Close'].rolling(window).mean()\n",
    "    rolling_std1 = df1['Adj Close'].rolling(window).std()\n",
    "    \n",
    "    df1['Bollinger High'] = rolling_mean1 + (rolling_std1 * no_of_std)\n",
    "    df1['Bollinger Mid'] = rolling_mean1\n",
    "    df1['Bollinger Low'] = rolling_mean1 - (rolling_std1 * no_of_std)"
   ]
  },
  {
   "cell_type": "code",
   "execution_count": 13,
   "metadata": {},
   "outputs": [],
   "source": [
    "\n",
    "def StochasticOscillator(df1):\n",
    "    MaxHigh = df1['High'].rolling(14).max()\n",
    "    MinLow =df1['Low'].rolling(14).min()\n",
    "    k=((df1['Close']-MinLow)/(MaxHigh-MinLow))#calculating the stochastic oscillator\n",
    "    b = (k*100)#Storing values of stochastic oscillator conerting value to range in between 100 and 0.\n",
    "    df1['%k']=b\n",
    "    df1['%d']= df1['%k'].rolling(3).mean()"
   ]
  },
  {
   "cell_type": "code",
   "execution_count": 14,
   "metadata": {
    "colab": {},
    "colab_type": "code",
    "id": "GjyWYhVV5JTp"
   },
   "outputs": [],
   "source": [
    "#df['Position'].iloc[row-1] = 0 means downtrend yesterday\n",
    "#df['Position'].iloc[row-1] = 1 means uptrend yesterday\n",
    "#df['Position'].iloc[row] = 1 means go long today\n",
    "#df['Position'].iloc[row] = -1 means go short today\n",
    "#df['Position'].iloc[row] = 0 means hold\n",
    "def BBandStrategy(df1):\n",
    "    df1['Position'] = 0\n",
    "    for row in range(1,len(df1)):\n",
    "        if df1['Position'].iloc[row-1]==0 :\n",
    "\n",
    "            if (df1['Adj Close'].iloc[row] < df1['Bollinger High'].iloc[row]) and df1['RSI'].iloc[row]>70 and (df1['Adj Close'].iloc[row-1] > df1['Bollinger High'].iloc[row]) and(df1['%k'].iloc[row]<df1['%d'].iloc[row]):\n",
    "                df1['Position'].iloc[row] = -1\n",
    "            elif (df1['Adj Close'].iloc[row] > df1['Bollinger Low'].iloc[row])and df1['RSI'].iloc[row]<30 and (df1['Adj Close'].iloc[row-1] < df1['Bollinger Low'].iloc[row-1])and (df1['%k'].iloc[row]>df1['%d'].iloc[row]):\n",
    "                df1['Position'].iloc[row] = 1\n",
    "            else :\n",
    "                df1['Position'].iloc[row] = 0\n",
    "            \n",
    "        elif df1['Position'].iloc[row-1]== 1 :\n",
    "            if df1['Adj Close'].iloc[row] > df1['Bollinger High'] and df1['RSI'].iloc[row-1]>70 and  df1['%k'].iloc[row]<df1['%d'].iloc[row]:\n",
    "                df1['Position'].iloc[row] = -1\n",
    "            else:\n",
    "                df1['Position'].iloc[row] = 1\n",
    "\n",
    "        else:\n",
    "            if (df1['Adj Close'].iloc[row]<df1['Bollinger Low'].iloc[row]) or (df1['Adj Close'].iloc[row]>df1['Bollinger High'].iloc[row]):\n",
    "                df1['Position'].iloc[row] = 0\n",
    "            elif df1['Adj Close'].iloc[row]>df1['Bollinger High'].iloc[row] and df['RSI'].iloc[row] > 70 and df1['%k'].iloc[row]<df1['%d'].iloc[row]:\n",
    "                df1['Position'].iloc[row] = -1\n",
    "            elif df1['Adj Close'].iloc[row] < df1['Bollinger Low'].iloc[row] and df1['RSI'].iloc[row]<30 and df1['%k'].iloc[row]>df1['%d'].iloc[row]:\n",
    "                df1['Position'].iloc[row] = 1\n",
    "                "
   ]
  },
  {
   "cell_type": "code",
   "execution_count": 15,
   "metadata": {
    "colab": {},
    "colab_type": "code",
    "id": "Jd7fljr85JTt",
    "outputId": "5a5fb0f9-1168-4113-ebcf-276c635e5d37"
   },
   "outputs": [
    {
     "name": "stderr",
     "output_type": "stream",
     "text": [
      "C:\\Users\\vedu2\\anaconda32\\lib\\site-packages\\pandas\\core\\indexing.py:670: SettingWithCopyWarning: \n",
      "A value is trying to be set on a copy of a slice from a DataFrame\n",
      "\n",
      "See the caveats in the documentation: https://pandas.pydata.org/pandas-docs/stable/user_guide/indexing.html#returning-a-view-versus-a-copy\n",
      "  self._setitem_with_indexer(indexer, value)\n"
     ]
    }
   ],
   "source": [
    "for i in range(nstocks):\n",
    "    for ticker in stock_list:\n",
    "        readData(ticker,i)\n",
    "        RSI(stocks[i])\n",
    "        BBands(stocks[i])\n",
    "        StochasticOscillator(stocks[i])\n",
    "        BBandStrategy(stocks[i])"
   ]
  },
  {
   "cell_type": "code",
   "execution_count": 16,
   "metadata": {
    "colab": {},
    "colab_type": "code",
    "id": "kcgN2SjL5JTz",
    "outputId": "1749e0f5-f0dd-4796-ca17-21da5074aae0"
   },
   "outputs": [],
   "source": [
    "s = (len(stocks[0]),nstocks) #setting the dimensions of the weights vector depending on the available data points\n",
    "weights = np.zeros(s) \n",
    "\n",
    "\n",
    "for row in range(len(stocks[0])):\n",
    "    i = 0\n",
    "    sumwts = 0\n",
    "    for i in range(nstocks):\n",
    "        sumwts+=np.abs(stocks[i]['Position'].iloc[row]) #checking how many positions were taken on that day\n",
    "    for i in range(nstocks):\n",
    "        if sumwts>0:\n",
    "            #weights assigned as:\n",
    "            #weights = (portfolio*position)/(no.of positions * adj close on that day * (1+transac cost))\n",
    "            weights[row][i]=(portfolio*stocks[i]['Position'].iloc[row])/((sumwts*stocks[i]['Adj Close'].iloc[row])*(1+tscost))\n",
    "        else:\n",
    "            weights[row][i]=0\n",
    "i = 0\n",
    "\n",
    "\n",
    "for i in range(nstocks):\n",
    "    stocks[i]['Market Return'] = (stocks[i]['Adj Close'] - stocks[i]['Adj Close'].shift(1)) #Absolute market return\n",
    "\n",
    "    \n",
    "#Calculating portfolio return\n",
    "stocks[0]['Strategy Return']=0\n",
    "i = 0\n",
    "for i in range(nstocks):\n",
    "    stocks[0]['Strategy Return']+=stocks[i]['Market Return'] * weights[:,i] #multiplying market return of each\n",
    "                                                                            #ticker with its weight\n"
   ]
  },
  {
   "cell_type": "code",
   "execution_count": 17,
   "metadata": {},
   "outputs": [
    {
     "data": {
      "text/plain": [
       "<matplotlib.axes._subplots.AxesSubplot at 0x246dbc9b548>"
      ]
     },
     "execution_count": 17,
     "metadata": {},
     "output_type": "execute_result"
    },
    {
     "data": {
      "image/png": "[encoded data removed]",
      "text/plain": [
       "<Figure size 432x288 with 1 Axes>"
      ]
     },
     "metadata": {
      "needs_background": "light"
     },
     "output_type": "display_data"
    }
   ],
   "source": [
    "stocks[0]['Strategy Return'].cumsum().plot() #Plotting strategy return"
   ]
  },
  {
   "cell_type": "code",
   "execution_count": null,
   "metadata": {},
   "outputs": [],
   "source": []
  },
  {
   "cell_type": "code",
   "execution_count": null,
   "metadata": {},
   "outputs": [],
   "source": []
  },
  {
   "cell_type": "code",
   "execution_count": null,
   "metadata": {},
   "outputs": [],
   "source": []
  }
 ],
 "metadata": {
  "colab": {
   "name": "Assignment 40% QTSP (1).ipynb",
   "provenance": []
  },
  "kernelspec": {
   "display_name": "Python 3",
   "language": "python",
   "name": "python3"
  },
  "language_info": {
   "codemirror_mode": {
    "name": "ipython",
    "version": 3
   },
   "file_extension": ".py",
   "mimetype": "text/x-python",
   "name": "python",
   "nbconvert_exporter": "python",
   "pygments_lexer": "ipython3",
   "version": "3.7.6"
  }
 },
 "nbformat": 4,
 "nbformat_minor": 1
}
